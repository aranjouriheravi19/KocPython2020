{
 "cells": [
  {
   "cell_type": "markdown",
   "metadata": {},
   "source": [
    "# Final Project of Python Course\n",
    "#### Koc University, Istanbul, Turkey\n",
    "#### Author: Amir Ranjouriheravi\n",
    "#### May 2020\n"
   ]
  },
  {
   "cell_type": "markdown",
   "metadata": {},
   "source": [
    "## Description of the project\n",
    "\n",
    "### The below description is quoted from the following source:\n",
    "https://www.kaggle.com/nicapotato/womens-ecommerce-clothing-reviews\n",
    "\n",
    "### Context\n",
    "This is a Women’s Clothing E-Commerce dataset revolving around the reviews written by customers. Its nine supportive features offer a great environment to parse out the text through its multiple dimensions. Because this is real commercial data, it has been anonymized, and references to the company in the review text and body have been replaced with “retailer”.\n",
    "\n",
    "### Content\n",
    "This dataset includes 23486 rows and 10 feature variables. Each row corresponds to a customer review, and includes the variables:\n",
    "\n",
    "Clothing ID: Integer Categorical variable that refers to the specific piece being reviewed.\n",
    "Age: Positive Integer variable of the reviewers age.\n",
    "Title: String variable for the title of the review.\n",
    "Review Text: String variable for the review body.\n",
    "Rating: Positive Ordinal Integer variable for the product score granted by the customer from 1 Worst, to 5 Best.\n",
    "Recommended IND: Binary variable stating where the customer recommends the product where 1 is recommended, 0 is not recommended.\n",
    "Positive Feedback Count: Positive Integer documenting the number of other customers who found this review positive.\n",
    "Division Name: Categorical name of the product high level division.\n",
    "Department Name: Categorical name of the product department name.\n",
    "Class Name: Categorical name of the product class name.\n",
    "### Acknowledgements\n",
    "Anonymous but real source\n",
    "\n",
    "### Inspiration\n",
    "I look forward to come quality NLP! There is also some great opportunities for feature engineering, and multivariate analysis."
   ]
  },
  {
   "cell_type": "markdown",
   "metadata": {},
   "source": [
    "### Importing requiring libraries"
   ]
  },
  {
   "cell_type": "code",
   "execution_count": 1,
   "metadata": {},
   "outputs": [],
   "source": [
    "import pandas as pd\n",
    "import numpy as np\n",
    "from sklearn.model_selection import train_test_split\n",
    "from sklearn.metrics import classification_report, roc_auc_score\n",
    "from catboost import CatBoostClassifier, Pool"
   ]
  },
  {
   "cell_type": "markdown",
   "metadata": {},
   "source": [
    "### The illustration of the data"
   ]
  },
  {
   "cell_type": "code",
   "execution_count": 2,
   "metadata": {},
   "outputs": [
    {
     "data": {
      "text/html": [
       "<div>\n",
       "<style scoped>\n",
       "    .dataframe tbody tr th:only-of-type {\n",
       "        vertical-align: middle;\n",
       "    }\n",
       "\n",
       "    .dataframe tbody tr th {\n",
       "        vertical-align: top;\n",
       "    }\n",
       "\n",
       "    .dataframe thead th {\n",
       "        text-align: right;\n",
       "    }\n",
       "</style>\n",
       "<table border=\"1\" class=\"dataframe\">\n",
       "  <thead>\n",
       "    <tr style=\"text-align: right;\">\n",
       "      <th></th>\n",
       "      <th>Unnamed: 0</th>\n",
       "      <th>Clothing ID</th>\n",
       "      <th>Age</th>\n",
       "      <th>Title</th>\n",
       "      <th>Review Text</th>\n",
       "      <th>Rating</th>\n",
       "      <th>Recommended IND</th>\n",
       "      <th>Positive Feedback Count</th>\n",
       "      <th>Division Name</th>\n",
       "      <th>Department Name</th>\n",
       "      <th>Class Name</th>\n",
       "    </tr>\n",
       "  </thead>\n",
       "  <tbody>\n",
       "    <tr>\n",
       "      <th>0</th>\n",
       "      <td>0</td>\n",
       "      <td>767</td>\n",
       "      <td>33</td>\n",
       "      <td>NaN</td>\n",
       "      <td>Absolutely wonderful - silky and sexy and comf...</td>\n",
       "      <td>4</td>\n",
       "      <td>1</td>\n",
       "      <td>0</td>\n",
       "      <td>Initmates</td>\n",
       "      <td>Intimate</td>\n",
       "      <td>Intimates</td>\n",
       "    </tr>\n",
       "    <tr>\n",
       "      <th>1</th>\n",
       "      <td>1</td>\n",
       "      <td>1080</td>\n",
       "      <td>34</td>\n",
       "      <td>NaN</td>\n",
       "      <td>Love this dress!  it's sooo pretty.  i happene...</td>\n",
       "      <td>5</td>\n",
       "      <td>1</td>\n",
       "      <td>4</td>\n",
       "      <td>General</td>\n",
       "      <td>Dresses</td>\n",
       "      <td>Dresses</td>\n",
       "    </tr>\n",
       "    <tr>\n",
       "      <th>2</th>\n",
       "      <td>2</td>\n",
       "      <td>1077</td>\n",
       "      <td>60</td>\n",
       "      <td>Some major design flaws</td>\n",
       "      <td>I had such high hopes for this dress and reall...</td>\n",
       "      <td>3</td>\n",
       "      <td>0</td>\n",
       "      <td>0</td>\n",
       "      <td>General</td>\n",
       "      <td>Dresses</td>\n",
       "      <td>Dresses</td>\n",
       "    </tr>\n",
       "    <tr>\n",
       "      <th>3</th>\n",
       "      <td>3</td>\n",
       "      <td>1049</td>\n",
       "      <td>50</td>\n",
       "      <td>My favorite buy!</td>\n",
       "      <td>I love, love, love this jumpsuit. it's fun, fl...</td>\n",
       "      <td>5</td>\n",
       "      <td>1</td>\n",
       "      <td>0</td>\n",
       "      <td>General Petite</td>\n",
       "      <td>Bottoms</td>\n",
       "      <td>Pants</td>\n",
       "    </tr>\n",
       "    <tr>\n",
       "      <th>4</th>\n",
       "      <td>4</td>\n",
       "      <td>847</td>\n",
       "      <td>47</td>\n",
       "      <td>Flattering shirt</td>\n",
       "      <td>This shirt is very flattering to all due to th...</td>\n",
       "      <td>5</td>\n",
       "      <td>1</td>\n",
       "      <td>6</td>\n",
       "      <td>General</td>\n",
       "      <td>Tops</td>\n",
       "      <td>Blouses</td>\n",
       "    </tr>\n",
       "  </tbody>\n",
       "</table>\n",
       "</div>"
      ],
      "text/plain": [
       "   Unnamed: 0  Clothing ID  Age                    Title  \\\n",
       "0           0          767   33                      NaN   \n",
       "1           1         1080   34                      NaN   \n",
       "2           2         1077   60  Some major design flaws   \n",
       "3           3         1049   50         My favorite buy!   \n",
       "4           4          847   47         Flattering shirt   \n",
       "\n",
       "                                         Review Text  Rating  Recommended IND  \\\n",
       "0  Absolutely wonderful - silky and sexy and comf...       4                1   \n",
       "1  Love this dress!  it's sooo pretty.  i happene...       5                1   \n",
       "2  I had such high hopes for this dress and reall...       3                0   \n",
       "3  I love, love, love this jumpsuit. it's fun, fl...       5                1   \n",
       "4  This shirt is very flattering to all due to th...       5                1   \n",
       "\n",
       "   Positive Feedback Count   Division Name Department Name Class Name  \n",
       "0                        0       Initmates        Intimate  Intimates  \n",
       "1                        4         General         Dresses    Dresses  \n",
       "2                        0         General         Dresses    Dresses  \n",
       "3                        0  General Petite         Bottoms      Pants  \n",
       "4                        6         General            Tops    Blouses  "
      ]
     },
     "execution_count": 2,
     "metadata": {},
     "output_type": "execute_result"
    }
   ],
   "source": [
    "df = pd.read_csv('Womens Clothing E-Commerce Reviews.csv')\n",
    "df.head()"
   ]
  },
  {
   "cell_type": "markdown",
   "metadata": {},
   "source": [
    "### Preprocessing on the datase"
   ]
  },
  {
   "cell_type": "code",
   "execution_count": 3,
   "metadata": {},
   "outputs": [],
   "source": [
    "df.drop(df.columns[[0]], axis = 1, inplace = True)\n",
    "df.fillna(0)\n",
    "df[['Title', 'Review Text', 'Division Name', 'Department Name', 'Class Name', 'Clothing ID']] =\\\n",
    "df[['Title', 'Review Text', 'Division Name', 'Department Name', 'Class Name', 'Clothing ID']].astype(str)\n",
    "text_col = ['Title', 'Review Text']\n",
    "num_col = ['Positive Feedback Count']\n",
    "cat_col = ['Division Name', 'Department Name', 'Class Name', 'Clothing ID']"
   ]
  },
  {
   "cell_type": "markdown",
   "metadata": {},
   "source": [
    "### Defining classes and feature variables"
   ]
  },
  {
   "cell_type": "code",
   "execution_count": 4,
   "metadata": {},
   "outputs": [],
   "source": [
    "X = df.drop(columns=['Recommended IND', 'Rating'])\n",
    "y_recom = df['Recommended IND']\n",
    "y_star = df['Rating']"
   ]
  },
  {
   "cell_type": "markdown",
   "metadata": {},
   "source": [
    "## Text preprocessing (.json file)"
   ]
  },
  {
   "cell_type": "code",
   "execution_count": 5,
   "metadata": {},
   "outputs": [],
   "source": [
    "txt_pre = [{\"text_processing_options\" : {\n",
    "    \"tokenizers\" : [{\n",
    "        \"tokenizer_id\" : \"Sense\",\n",
    "        \"lowercasing\" : \"True\",\n",
    "        \"separator_type\" : \"BySense\",\n",
    "        \"token_types\" : [\"Word\"],\n",
    "        \"number_process_policy\" : \"Skip\",\n",
    "        \"sub_tokens_policy\" : \"SeveralTokens\",\n",
    "        \"languages\" : [\"english\"]\n",
    "    }],\n",
    "\n",
    "    \"dictionaries\" : [{\n",
    "        \"dictionary_id\" : \"BiGram\",\n",
    "        \"gram_order\" : \"2\"\n",
    "    }, {\n",
    "        \"dictionary_id\" : \"Word\",\n",
    "        \"gram_order\" : \"1\"\n",
    "    }],\n",
    "\n",
    "    \"feature_processing\" : {\n",
    "        \"default\" : [{\n",
    "            \"dictionaries_names\" : [\"Word\", \"BiGram\"],\n",
    "            \"feature_calcers\" : [\"BoW\", \"NaiveBayes\", \"BM25\"],\n",
    "            \"tokenizers_names\" : [\"Sense\"]\n",
    "        }]\n",
    "    }\n",
    "}\n",
    "}]"
   ]
  },
  {
   "cell_type": "markdown",
   "metadata": {},
   "source": [
    "# Training on recommendation of costumers\n",
    "### Spliting to test and train dataset"
   ]
  },
  {
   "cell_type": "code",
   "execution_count": 6,
   "metadata": {},
   "outputs": [],
   "source": [
    "Xtr, Xts, ytr, yts = train_test_split(X, y_recom, test_size = 0.20, random_state = 123)\n",
    "train_pool = Pool(data = Xtr, label = ytr, cat_features = cat_col, text_features = text_col)\n",
    "test_pool = Pool(data = Xts, label = yts, cat_features = cat_col, text_features = text_col)"
   ]
  },
  {
   "cell_type": "markdown",
   "metadata": {},
   "source": [
    "### Fitting the model"
   ]
  },
  {
   "cell_type": "code",
   "execution_count": 7,
   "metadata": {},
   "outputs": [
    {
     "data": {
      "text/plain": [
       "<catboost.core.CatBoostClassifier at 0x1a6d8b22080>"
      ]
     },
     "execution_count": 7,
     "metadata": {},
     "output_type": "execute_result"
    }
   ],
   "source": [
    "clf = CatBoostClassifier(iterations = 20, logging_level = 'Silent', random_seed = 123, cat_features = cat_col,\\\n",
    "                         text_features = text_col, text_processing = txt_pre, task_type = 'GPU')\n",
    "clf.fit(train_pool)"
   ]
  },
  {
   "cell_type": "markdown",
   "metadata": {},
   "source": [
    "### Calculating the accuracy of the model"
   ]
  },
  {
   "cell_type": "code",
   "execution_count": 8,
   "metadata": {},
   "outputs": [
    {
     "name": "stdout",
     "output_type": "stream",
     "text": [
      "The train accuracy and test accuracy are  94.0%  and  91.5% respectively.\n",
      "              precision    recall  f1-score   support\n",
      "\n",
      "           0       0.74      0.75      0.75       781\n",
      "           1       0.95      0.95      0.95      3917\n",
      "\n",
      "    accuracy                           0.92      4698\n",
      "   macro avg       0.85      0.85      0.85      4698\n",
      "weighted avg       0.92      0.92      0.92      4698\n",
      "\n",
      "Also, the area under ROC curve equals 0.85. \n",
      "\n"
     ]
    }
   ],
   "source": [
    "train_accuracy = clf.score(train_pool)\n",
    "test_accuracy = clf.score(test_pool)\n",
    "print ('The train accuracy and test accuracy are ',\\\n",
    "       '{:.1%}'.format(train_accuracy),' and ',\\\n",
    "       '{:.1%}'.format(test_accuracy), 'respectively.')\n",
    "ypred = clf.predict(Xts)\n",
    "print(classification_report(yts, ypred))\n",
    "auc = roc_auc_score(yts, ypred)\n",
    "print('Also, the area under ROC curve equals ', '{:.2}'.format(auc),'. \\n', sep = '')"
   ]
  },
  {
   "cell_type": "markdown",
   "metadata": {},
   "source": [
    "# Training on number of stars given\n",
    "### Spliting to test and train dataset"
   ]
  },
  {
   "cell_type": "code",
   "execution_count": 9,
   "metadata": {},
   "outputs": [],
   "source": [
    "Xtr, Xts, ytr, yts = train_test_split(X, y_star, test_size = 0.20, random_state = 123)\n",
    "train_pool = Pool(data = Xtr, label = ytr, cat_features = cat_col, text_features = text_col)\n",
    "test_pool = Pool(data = Xts, label = yts, cat_features = cat_col, text_features = text_col)"
   ]
  },
  {
   "cell_type": "markdown",
   "metadata": {},
   "source": [
    "### Fitting the model"
   ]
  },
  {
   "cell_type": "code",
   "execution_count": 10,
   "metadata": {},
   "outputs": [
    {
     "data": {
      "text/plain": [
       "<catboost.core.CatBoostClassifier at 0x1a6d8b0ac88>"
      ]
     },
     "execution_count": 10,
     "metadata": {},
     "output_type": "execute_result"
    }
   ],
   "source": [
    "clf = CatBoostClassifier(iterations = 20, logging_level = 'Silent', random_seed = 123, cat_features = cat_col,\\\n",
    "                         text_features = text_col, text_processing = txt_pre, task_type = 'GPU')\n",
    "clf.fit(train_pool)"
   ]
  },
  {
   "cell_type": "markdown",
   "metadata": {},
   "source": [
    "### Calculating the accuracy of the model"
   ]
  },
  {
   "cell_type": "code",
   "execution_count": 11,
   "metadata": {},
   "outputs": [
    {
     "name": "stdout",
     "output_type": "stream",
     "text": [
      "The train accuracy and test accuracy are  74.3%  and  66.5% respectively.\n",
      "              precision    recall  f1-score   support\n",
      "\n",
      "           1       0.45      0.25      0.32       163\n",
      "           2       0.32      0.25      0.28       285\n",
      "           3       0.40      0.50      0.44       549\n",
      "           4       0.51      0.30      0.38      1042\n",
      "           5       0.78      0.91      0.84      2659\n",
      "\n",
      "    accuracy                           0.66      4698\n",
      "   macro avg       0.49      0.44      0.45      4698\n",
      "weighted avg       0.64      0.66      0.64      4698\n",
      "\n"
     ]
    }
   ],
   "source": [
    "train_accuracy = clf.score(train_pool)\n",
    "test_accuracy = clf.score(test_pool)\n",
    "print ('The train accuracy and test accuracy are ',\\\n",
    "       '{:.1%}'.format(train_accuracy),' and ',\\\n",
    "       '{:.1%}'.format(test_accuracy), 'respectively.')\n",
    "ypred = clf.predict(Xts)\n",
    "print(classification_report(yts, ypred))"
   ]
  },
  {
   "cell_type": "code",
   "execution_count": null,
   "metadata": {},
   "outputs": [],
   "source": []
  }
 ],
 "metadata": {
  "kernelspec": {
   "display_name": "Python 3",
   "language": "python",
   "name": "python3"
  },
  "language_info": {
   "codemirror_mode": {
    "name": "ipython",
    "version": 3
   },
   "file_extension": ".py",
   "mimetype": "text/x-python",
   "name": "python",
   "nbconvert_exporter": "python",
   "pygments_lexer": "ipython3",
   "version": "3.7.3"
  }
 },
 "nbformat": 4,
 "nbformat_minor": 4
}
